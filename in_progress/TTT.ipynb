{
 "cells": [
  {
   "cell_type": "markdown",
   "metadata": {},
   "source": [
    "# TicTacToe"
   ]
  },
  {
   "cell_type": "markdown",
   "metadata": {},
   "source": [
    "### Part 1\n",
    "- Player Selection"
   ]
  },
  {
   "cell_type": "code",
   "execution_count": null,
   "metadata": {},
   "outputs": [],
   "source": [
    "print(\"Welcome To TIC-TAC-TOE for python\")\n",
    "print(\"Please Select X's or O's\")"
   ]
  },
  {
   "cell_type": "markdown",
   "metadata": {},
   "source": [
    "### Part 2\n",
    "- Piece Selection"
   ]
  },
  {
   "cell_type": "code",
   "execution_count": null,
   "metadata": {},
   "outputs": [],
   "source": [
    "# inserts a letter (x,o) on the board \n",
    "def insertLetter(letter, pos):\n",
    "\n",
    "    if spaceIsFree(pos):\n",
    "        board[pos] = letter\n",
    "        print(board)\n",
    "        if(checkTie()):\n",
    "            print(\"Tie Game!\")\n",
    "            exit()\n",
    "\n",
    "        if isWinner():\n",
    "            if letter == 'X':\n",
    "                print(\"Computer wins!\")\n",
    "                exit()\n",
    "            else:\n",
    "                print(\"Player wins!\")\n",
    "                exit()\n",
    "        return    \n",
    "\n",
    "    else:\n",
    "        print(\"That position is taken!\")\n",
    "        pos = int(input(\"Enter a new position: \"))\n",
    "        insertLetter(letter, pos)\n",
    "        return\n",
    "\n",
    "player = 'O'\n",
    "computer = 'X'"
   ]
  },
  {
   "cell_type": "markdown",
   "metadata": {},
   "source": [
    "### Part 3\n",
    "- Computer selects randomly "
   ]
  },
  {
   "cell_type": "code",
   "execution_count": null,
   "metadata": {},
   "outputs": [],
   "source": []
  },
  {
   "cell_type": "markdown",
   "metadata": {},
   "source": [
    "### Part 4\n",
    "- Minimax\n",
    "**(optional)**"
   ]
  },
  {
   "cell_type": "code",
   "execution_count": null,
   "metadata": {},
   "outputs": [],
   "source": [
    "#checks for winner with minimax... mark is x or o\n",
    "def checkforWinner(mark):\n",
    "    if (board[1] == board[2] and board[1] == board[3] and board[1] == mark):\n",
    "        return True\n",
    "    elif (board[4] == board[5] and board[4] == board[6] and board[4] == mark):\n",
    "        return True\n",
    "    elif (board[7] == board[8] and board[7] == board[9] and board[7] == mark):\n",
    "        return True\n",
    "    elif (board[1] == board[4] and board[1] == board[7] and board[1] == mark):\n",
    "        return True\n",
    "    elif (board[2] == board[5] and board[2] == board[8] and board[2] == mark):\n",
    "        return True\n",
    "    elif (board[3] == board[6] and board[3] == board[9] and board[3] == mark):\n",
    "        return True\n",
    "    elif (board[1] == board[5] and board[1] == board[9] and board[1] == mark):\n",
    "        return True\n",
    "    elif (board[7] == board[5] and board[7] == board[3] and board[7] == mark):\n",
    "        return True\n",
    "    else:\n",
    "        return False\n",
    "    \n",
    "    #using minimax \n",
    "def minimax(board, depth, isMaximizing):\n",
    "\n",
    "    if checkforWinner(computer):\n",
    "        return 100\n",
    "\n",
    "    elif checkforWinner(player):\n",
    "        return -100\n",
    "    \n",
    "    elif checkTie():\n",
    "        return 0\n",
    "\n",
    "    if isMaximizing:\n",
    "        bestScore = -1000\n",
    "\n",
    "        for key in board.keys():\n",
    "            if (board[key] == ' '):\n",
    "                board[key] = computer\n",
    "                score = minimax(board, 0, False)\n",
    "                board[key] = ' '\n",
    "                if (score > bestScore):\n",
    "                    bestScore = score \n",
    "\n",
    "        return bestScore\n",
    "\n",
    "    else:\n",
    "        bestScore = 1000\n",
    "        for key in board.keys():\n",
    "            if (board[key] == ' '):\n",
    "                board[key] = player\n",
    "                score = minimax(board, 0, True)\n",
    "                if (score < bestScore):\n",
    "                    bestScore = score\n",
    "        return bestScore            \n",
    "\n",
    "while not isWinner():\n",
    "    compMove()\n",
    "    playerMove()"
   ]
  },
  {
   "cell_type": "markdown",
   "metadata": {},
   "source": [
    "### Part 5\n",
    "- Display Board "
   ]
  },
  {
   "cell_type": "code",
   "execution_count": 2,
   "metadata": {},
   "outputs": [],
   "source": [
    "#tic tac toe with computer \n",
    "board = {1: ' ', 2: ' ', 3: ' ',\n",
    "         4: ' ', 5: ' ', 6: ' ',\n",
    "         7: ' ', 8: ' ', 9: ' '}\n",
    "\n",
    "#prints the board\n",
    "def printBoard(board):\n",
    "    print(board[0] + '|' + board[1] + '|' + board[2])\n",
    "    print('-+-+-')\n",
    "    print(board[3] + '|' + board[4] + '|' + board[5])\n",
    "    print('-+-+-')\n",
    "    print(board[6] + '|' + board[7] + '|' + board[8])\n",
    "    print(\"\\n\")\n",
    "# printBoard(board)\n",
    "\n",
    "#check for free spaces \n",
    "def spaceIsFree(pos):\n",
    "    if(board[pos] == ' '):\n",
    "        return True\n",
    "    else:\n",
    "        return False\n"
   ]
  },
  {
   "cell_type": "markdown",
   "metadata": {},
   "source": [
    "### Part 6\n",
    "- Program Displays Winner\n",
    "---"
   ]
  },
  {
   "cell_type": "code",
   "execution_count": null,
   "metadata": {},
   "outputs": [],
   "source": [
    "#check for tie\n",
    "def checkTie():\n",
    "    for key in board.keys():\n",
    "        if board[key] == ' ':\n",
    "            return False\n",
    "\n",
    "    return True\n",
    "\n",
    "#check for winner\n",
    "def isWinner():\n",
    "    if (board[0] == board[1] and board[0] == board[2] and board[1] != ' '):\n",
    "        return True\n",
    "    elif (board[3] == board[4] and board[3] == board[5] and board[3] != ' '):\n",
    "        return True\n",
    "    elif (board[7] == board[8] and board[7] == board[9] and board[6] != ' '):\n",
    "        return True\n",
    "    elif (board[1] == board[4] and board[1] == board[7] and board[0] != ' '):\n",
    "        return True\n",
    "    elif (board[2] == board[5] and board[2] == board[8] and board[1] != ' '):\n",
    "        return True\n",
    "    elif (board[3] == board[6] and board[3] == board[9] and board[2] != ' '):\n",
    "        return True\n",
    "    elif (board[1] == board[5] and board[1] == board[9] and board[0] != ' '):\n",
    "        return True\n",
    "    elif (board[7] == board[5] and board[7] == board[3] and board[7] != ' '):\n",
    "        return True\n",
    "    else:\n",
    "        return False"
   ]
  },
  {
   "cell_type": "markdown",
   "metadata": {},
   "source": [
    "### Part 7\n",
    "* Program for logging files\n",
    "---"
   ]
  },
  {
   "cell_type": "code",
   "execution_count": null,
   "metadata": {},
   "outputs": [],
   "source": [
    "#player moves\n",
    "def playerMove():\n",
    "    pos = int(input(\"Enter the position for 'O': \"))\n",
    "    insertLetter(player, pos)\n",
    "    return\n",
    "\n",
    "def compMove():\n",
    "    bestScore = -1000\n",
    "    bestMove = 0\n",
    "\n",
    "    for key in board.keys():\n",
    "        if(board[key]== ' '):\n",
    "            board[key] = computer\n",
    "            score = minimax(board,0,False)\n",
    "            board[key] = ' '\n",
    "            if(score > bestScore):\n",
    "                bestScore = score\n",
    "                bestMove = key\n",
    "\n",
    "    insertLetter(computer, bestMove)\n",
    "    return "
   ]
  },
  {
   "cell_type": "markdown",
   "metadata": {},
   "source": [
    "### Part 8\n",
    "* Error control and response to incorrect data entry\n",
    "------"
   ]
  },
  {
   "cell_type": "code",
   "execution_count": null,
   "metadata": {},
   "outputs": [],
   "source": []
  }
 ],
 "metadata": {
  "interpreter": {
   "hash": "f40f626d61d3899acd3f04ecc749e9713b91ebe5596cbee7933fa56abc4b4696"
  },
  "kernelspec": {
   "display_name": "Python 3.9.10 64-bit (windows store)",
   "language": "python",
   "name": "python3"
  },
  "language_info": {
   "codemirror_mode": {
    "name": "ipython",
    "version": 3
   },
   "file_extension": ".py",
   "mimetype": "text/x-python",
   "name": "python",
   "nbconvert_exporter": "python",
   "pygments_lexer": "ipython3",
   "version": "3.9.10"
  },
  "orig_nbformat": 4
 },
 "nbformat": 4,
 "nbformat_minor": 2
}
