{
 "cells": [
  {
   "cell_type": "markdown",
   "metadata": {},
   "source": [
    "# TicTacToe\n",
    "### Main File\n",
    "NOTE:Add in Sections as they are completed\n",
    "### Completed Sections\n",
    "1. TODO:\n",
    "\n",
    "2. TODO:\n",
    "\n",
    "3. TODO:\n",
    "\n",
    "4. TODO:\n",
    "\n",
    "5. Complete\n",
    "\n",
    "6. TODO:\n",
    "\n",
    "7. TODO:\n",
    "\n",
    "8. TODO:"
   ]
  },
  {
   "cell_type": "markdown",
   "metadata": {},
   "source": [
    "## Sections\n",
    "1. Selection of the first player. (e.g. Would you like to play first?)\n",
    "2. Assignment of \"O\" or \"X\" for a user. (e.g. Please choose 'O' or 'X' for your turn.)\n",
    "3. Computer selects a position based on either random position. \n",
    "4. If computer can select a position based on an algorithm (e.g. MiniMax algorithm or rule-based) approach, you will earn 20 extra points.\n",
    "5. At each run, the program should display the board (3x3) as shown below. Placement is made based on the pre-assigned positional number.\n",
    "6. Your program prints appropriate message if there is a winner and then exits.\n",
    "7. Your program saves all the moves between players in a file called tictactoe.txt (X:5 O:2 X:1 O:9 etc...)\n",
    "8. Your program should handle incorrect inputs (e.g. input validation) and continue to play without an error."
   ]
  },
  {
   "cell_type": "code",
   "execution_count": 1,
   "metadata": {},
   "outputs": [],
   "source": [
    "# place all imports at the top of the file here\n",
    "import re, logging"
   ]
  },
  {
   "cell_type": "code",
   "execution_count": 2,
   "metadata": {},
   "outputs": [],
   "source": [
    "# Random integer in place of \n",
    "# the minimax algorithm unless\n",
    "# minimax works\n",
    "\n",
    "board = [1,2,3,4,5,6,7,8,9]\n",
    "\n",
    "#2 Logging for python file\n",
    "logging.basicConfig(filename='ttt_game_log.txt', level=logging.DEBUG, format='%(asctime)s - %(levelname)s - %(message)s')\n",
    "\n",
    "class TicTacToe:\n",
    "    '''Super Class for playing tic tac toe'''\n",
    "\n",
    "    def __init__(self, player, computer):\n",
    "        '''defines the player and their choice of X || O'''\n",
    "        \n",
    "        self.player = player\n",
    "        self.computer = computer\n",
    "        print()\n",
    "        \n",
    "\n",
    "    def spaceIsFree(pos):\n",
    "        '''Check if space is free on the board'''\n",
    "        if(board[pos] == ' '):\n",
    "            return True\n",
    "        else:\n",
    "            return False\n",
    "\n",
    "    def checkTie():\n",
    "        '''Checks board for a Tie'''\n",
    "        for key in board.keys():\n",
    "            if board[key] == ' ':\n",
    "                return False\n",
    "            else:\n",
    "                return True\n",
    "\n",
    "    def checkWin(board, player):\n",
    "        '''Checks for winner using the board'''\n",
    "        i, mark = board, player\n",
    "        return(\n",
    "        (i[0] == i[1] == i[2] == mark) or  # 1. top_horizon\n",
    "        (i[4] == i[5] == i[6] == mark) or  # 2. mid_horizon\n",
    "        (i[1] == i[4] == i[7] == mark) or  # 3. bottom_horizon\n",
    "        (i[2] == i[5] == i[8] == mark) or  # 4. left_vertical\n",
    "        (i[3] == i[6] == i[9] == mark) or  # 5. middle_vertical\n",
    "        (i[3] == i[6] == i[9] == mark) or  # 6. right_vertical\n",
    "        (i[1] == i[5] == i[9] == mark) or  # 7. tl_br\n",
    "        (i[3] == i[5] == i[7] == mark))    # 8. tr_bl\n",
    "        \n",
    "    def minimax(self, board, isMaximizing, computer ):\n",
    "        '''criteria for Minimax class'''\n",
    "\n",
    "        self.computer = computer\n",
    "        self.player = player\n",
    "                    \n",
    "        if TicTacToe.checkWin(mark):\n",
    "            return -100\n",
    "        elif TicTacToe.checkWin(player):\n",
    "            return 100\n",
    "        elif TicTacToe.checkTie():\n",
    "            return 0\n",
    "        \n",
    "        if isMaximizing:\n",
    "            bestScore = -100\n",
    "            for key in board.keys():\n",
    "                if (board[key] == ' '):\n",
    "                    board[key] = computer\n",
    "                    score = (board, 0, False)\n",
    "                    board[key] = ' '\n",
    "                    if (score > bestScore):\n",
    "                        bestScore = score \n",
    "            return bestScore\n",
    "\n",
    "        else:\n",
    "            bestScore = 100\n",
    "            for key in board.keys():\n",
    "                if (board[key] == ' '):\n",
    "                    board[key] = self.player\n",
    "                    score = self(board, 0, True)\n",
    "                    if (score < bestScore):\n",
    "                        bestScore = score\n",
    "            return bestScore"
   ]
  },
  {
   "cell_type": "markdown",
   "metadata": {},
   "source": [
    "### Part 1\n",
    "- Player Selection"
   ]
  },
  {
   "cell_type": "code",
   "execution_count": 3,
   "metadata": {},
   "outputs": [
    {
     "name": "stdout",
     "output_type": "stream",
     "text": [
      "Welcome to Tic Tac Toe.\n",
      " \n",
      "         Our Version by Steph & Thad\n",
      "\n",
      "         To Play Please Select either X's or O's.\n",
      "\n",
      "         For X's press 1\n",
      " \n",
      "         For O's press 2\n"
     ]
    }
   ],
   "source": [
    "# TODO who goes first\n",
    "# TODO: write coin flip to decide who goes first\n",
    "print('''Welcome to Tic Tac Toe.\\n \n",
    "         Our Version by Steph & Thad\\n\n",
    "         To Play Please Select either X's or O's.\\n\n",
    "         For X's press 1\\n \n",
    "         For O's press 2''')"
   ]
  },
  {
   "cell_type": "markdown",
   "metadata": {},
   "source": [
    "### Part 2\n",
    "- Piece Selection"
   ]
  },
  {
   "cell_type": "code",
   "execution_count": 21,
   "metadata": {},
   "outputs": [
    {
     "name": "stdout",
     "output_type": "stream",
     "text": [
      "x X o O\n"
     ]
    }
   ],
   "source": [
    "import random\n",
    "heads = 0\n",
    "for i in range(1, 1001):\n",
    "    if random.randint(0, 1) == 1:\n",
    "        heads = heads + 1\n",
    "    if i == 500:\n",
    "        print('Halfway done!')\n",
    "# TODO: This\n",
    "print(input(), 'X', input(), 'O')"
   ]
  },
  {
   "cell_type": "markdown",
   "metadata": {},
   "source": [
    "### Part 3\n",
    "- Computer selects randomly "
   ]
  },
  {
   "cell_type": "code",
   "execution_count": 1,
   "metadata": {},
   "outputs": [
    {
     "name": "stdout",
     "output_type": "stream",
     "text": [
      "6\n",
      "5\n",
      "6\n",
      "4\n",
      "4\n",
      "7\n",
      "4\n",
      "8\n",
      "5\n",
      "7\n",
      "5\n"
     ]
    }
   ],
   "source": [
    "# TODO: This\n",
    "# should be a Minimax or randomized\n",
    "import random\n",
    "def comp_move(jam, n):\n",
    "    '''Computes the computers turn'''\n",
    "    random.shuffle(jam)\n",
    "    jam = [1,2,3,4,5,6,7,8,9]\n",
    "    result = []\n",
    "    for i in range(0, len(jam), n):\n",
    "        result.append(jam[i:i + n])\n",
    "    return result\n"
   ]
  },
  {
   "cell_type": "markdown",
   "metadata": {},
   "source": [
    "### Part 4\n",
    "- Minimax\n",
    "**(optional)**"
   ]
  },
  {
   "cell_type": "code",
   "execution_count": 27,
   "metadata": {},
   "outputs": [],
   "source": [
    "def Minimax(self, board, isMaximizing):\n",
    "    '''criteria for Minimax class'''\n",
    "    \n",
    "    self.computer = computer\n",
    "    self.player = player\n",
    "    TicTacToe.board = board\n",
    "        \n",
    "    if checkWin(computer):\n",
    "        return -100\n",
    "    elif checkWin(player):\n",
    "        return 100\n",
    "    elif checkTie:\n",
    "        return 0\n",
    "    \n",
    "    if isMaximizing:\n",
    "        bestScore = -100\n",
    "        for key in board.keys():\n",
    "            if (board[key] == ' '):\n",
    "                board[key] = computer\n",
    "                score = (board, 0, False)\n",
    "                board[key] = ' '\n",
    "                if (score > bestScore):\n",
    "                    bestScore = score \n",
    "        return bestScore\n",
    "\n",
    "    else:\n",
    "        bestScore = 100\n",
    "        for key in board.keys():\n",
    "            if (board[key] == ' '):\n",
    "                board[key] = self.player\n",
    "                score = self(board, 0, True)\n",
    "                if (score < bestScore):\n",
    "                    bestScore = score\n",
    "        return bestScore"
   ]
  },
  {
   "cell_type": "markdown",
   "metadata": {},
   "source": [
    "### Part 5 - Complete\n",
    "- Display Board \n",
    "- Must Display every turn"
   ]
  },
  {
   "cell_type": "code",
   "execution_count": 28,
   "metadata": {},
   "outputs": [],
   "source": [
    "#prints the board\n",
    "# Finished\n",
    "# 5,1,3,7,9,2,4,6,8\n",
    "def getBoard(board):\n",
    "    '''Displays board with index starting in top left and finishing in bottom right [0:8]'''\n",
    "    \n",
    "    board['a1':'1', 'b1':'2', 'c1':'3',\n",
    "          'a2':'4', 'b2':'5', 'c2':'6',\n",
    "          'a3':'7', 'b3':'8', 'c3':'9']=(\n",
    "            \"\"\"'A'    'B'    'C' \n",
    "              ____________________\n",
    "             |      |      |      |\n",
    "             | {a1} | {b1} | {c1} |    '1'\n",
    "             |______|______|______|\n",
    "             |      |      |      |\n",
    "             | {a2} | {b2} | {c2} |    '2'\n",
    "             |______|______|______|\n",
    "             |      |      |      |\n",
    "             | {a3} | {b3} | {c3} |    '3'\n",
    "             |______|______|______|\"\"\"\n",
    "        )                                                                                      \n",
    "    return board"
   ]
  },
  {
   "cell_type": "markdown",
   "metadata": {},
   "source": [
    "### Part 7\n",
    "\n",
    "- Program Logs All Files\n",
    "- Logs all moves in file(tictactoe.txt)"
   ]
  },
  {
   "cell_type": "markdown",
   "metadata": {},
   "source": [
    "### Part 8\n",
    "- Handle input error and continue"
   ]
  },
  {
   "cell_type": "code",
   "execution_count": 22,
   "metadata": {},
   "outputs": [
    {
     "name": "stdout",
     "output_type": "stream",
     "text": [
      "t\n"
     ]
    },
    {
     "ename": "Exception",
     "evalue": "Doesnt work",
     "output_type": "error",
     "traceback": [
      "\u001b[1;31m---------------------------------------------------------------------------\u001b[0m",
      "\u001b[1;31mException\u001b[0m                                 Traceback (most recent call last)",
      "\u001b[1;32md:\\Repositories\\IS201\\probable-bassoon\\in_progress\\TicTacToe03.ipynb Cell 17'\u001b[0m in \u001b[0;36m<cell line: 2>\u001b[1;34m()\u001b[0m\n\u001b[0;32m      <a href='vscode-notebook-cell:/d%3A/Repositories/IS201/probable-bassoon/in_progress/TicTacToe03.ipynb#ch0000016?line=0'>1</a>\u001b[0m \u001b[39mprint\u001b[39m(\u001b[39m'\u001b[39m\u001b[39mt\u001b[39m\u001b[39m'\u001b[39m) \u001b[39m# TODO: check\u001b[39;00m\n\u001b[1;32m----> <a href='vscode-notebook-cell:/d%3A/Repositories/IS201/probable-bassoon/in_progress/TicTacToe03.ipynb#ch0000016?line=1'>2</a>\u001b[0m \u001b[39mraise\u001b[39;00m \u001b[39mException\u001b[39;00m(\u001b[39m'\u001b[39m\u001b[39mDoesnt work\u001b[39m\u001b[39m'\u001b[39m)\n",
      "\u001b[1;31mException\u001b[0m: Doesnt work"
     ]
    }
   ],
   "source": [
    "print('t') # TODO: check\n",
    "raise Exception('Doesnt work')\n",
    "    "
   ]
  }
 ],
 "metadata": {
  "interpreter": {
   "hash": "f40f626d61d3899acd3f04ecc749e9713b91ebe5596cbee7933fa56abc4b4696"
  },
  "kernelspec": {
   "display_name": "Python 3.9.10 64-bit (windows store)",
   "language": "python",
   "name": "python3"
  },
  "language_info": {
   "codemirror_mode": {
    "name": "ipython",
    "version": 3
   },
   "file_extension": ".py",
   "mimetype": "text/x-python",
   "name": "python",
   "nbconvert_exporter": "python",
   "pygments_lexer": "ipython3",
   "version": "3.10.2"
  },
  "orig_nbformat": 4
 },
 "nbformat": 4,
 "nbformat_minor": 2
}
